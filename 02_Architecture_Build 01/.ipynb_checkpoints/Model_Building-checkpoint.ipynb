{
 "cells": [
  {
   "cell_type": "markdown",
   "id": "098a822a-6297-46b1-9ac9-2c82405068e2",
   "metadata": {},
   "source": [
    "## Importing Modules"
   ]
  },
  {
   "cell_type": "code",
   "execution_count": 1,
   "id": "540f27e8-da2f-474d-95de-b8c88435e581",
   "metadata": {},
   "outputs": [],
   "source": [
    "import numpy as np \n",
    "import os\n",
    "\n",
    "import cv2\n",
    "import matplotlib.pyplot as plt\n",
    "\n",
    "from sklearn.model_selection import train_test_split\n",
    "\n",
    "from keras.models import Sequential\n",
    "from keras.layers import Conv2D, MaxPool2D, Flatten, Dense\n",
    "\n",
    "from keras.preprocessing.image import ImageDataGenerator\n",
    "\n",
    "from keras.callbacks import ModelCheckpoint\n",
    "import tensorflow as tf"
   ]
  },
  {
   "cell_type": "code",
   "execution_count": 2,
   "id": "baf0c19c-9dd2-4a5c-bb10-c8532171e2d9",
   "metadata": {},
   "outputs": [],
   "source": [
    "## Setting up physical Devices:\n",
    "physical_devices = tf.config.list_physical_devices('GPU')\n",
    "try:\n",
    "    tf.config.experimental.set_memory_growth(physical_devices[0], True)\n",
    "except:\n",
    "    pass    "
   ]
  },
  {
   "cell_type": "code",
   "execution_count": 3,
   "id": "601c0178-2754-49fa-a0a5-dc71bb634de7",
   "metadata": {},
   "outputs": [],
   "source": [
    "# Defining Constants \n",
    "\n",
    "IMG_WIDTH = 224\n",
    "IMG_HEIGHT = 224\n",
    "NUM_CHANNELS = 3   # 3 channels - coloured images \n",
    "NUM_CLASSES = 2    # 2 classes - cats & dogs\n",
    "BATCH_SIZE = 32\n",
    "EPOCHS = 50"
   ]
  },
  {
   "cell_type": "markdown",
   "id": "ebf75a1d-6a55-44fe-b3b0-425926afe7a1",
   "metadata": {},
   "source": [
    "# Loading Data:"
   ]
  },
  {
   "cell_type": "code",
   "execution_count": 81,
   "id": "4105b858-674d-4c6c-85c7-c62c74b84cae",
   "metadata": {},
   "outputs": [],
   "source": [
    "approved_mobile_path = os.path.join('dataset', 'approved-ss', 'mobile-view')\n",
    "approved_desktop_path = os.path.join('dataset', 'approved-ss', 'desktop-view')"
   ]
  },
  {
   "cell_type": "code",
   "execution_count": 82,
   "id": "f9512405-99bd-4354-960f-ffb323f5fb96",
   "metadata": {},
   "outputs": [],
   "source": [
    "other_mobile_path = os.path.join('dataset', 'other-ss', 'mobile-view')\n",
    "other_desktop_path = os.path.join('dataset', 'other-ss', 'desktop-view')"
   ]
  },
  {
   "cell_type": "code",
   "execution_count": 83,
   "id": "cf8f1531-9d54-4d57-b3a9-1d6183eed650",
   "metadata": {},
   "outputs": [],
   "source": [
    "approved_desktop_list = os.listdir(approved_desktop_path)\n",
    "approved_mobile_list = os.listdir(approved_mobile_path)\n",
    "\n",
    "other_mobile_list = os.listdir(other_mobile_path)\n",
    "other_desktop_list = os.listdir(other_desktop_path)"
   ]
  },
  {
   "cell_type": "code",
   "execution_count": 72,
   "id": "dbcb19a5-0da1-414a-bc78-fafcf6952fc1",
   "metadata": {},
   "outputs": [],
   "source": [
    "def load_data(path_to_dir, path_to_dir_list, approved=True):\n",
    "    label = 1\n",
    "    if not approved:\n",
    "        label = 0\n",
    "    imgs = []\n",
    "    for file in path_to_dir_list:\n",
    "        # path = os.path.join(path_to_dir, file)\n",
    "        img = cv2.imread(os.path.join(path_to_dir, file))\n",
    "        # print(len(img))\n",
    "        imgs.append([img, label])\n",
    "    return imgs\n",
    "\n",
    "# load_data(approved_desktop_path, approved_desktop_list, True\n",
    "            # path to dir         list of imgs file names   labels"
   ]
  },
  {
   "cell_type": "code",
   "execution_count": 73,
   "id": "b38a8ac3-6f66-46a6-a107-efa9c3ded65c",
   "metadata": {},
   "outputs": [],
   "source": [
    "# Loading Datasets"
   ]
  },
  {
   "cell_type": "code",
   "execution_count": 74,
   "id": "518f283c-6421-4a3f-8299-6a890e6200f0",
   "metadata": {},
   "outputs": [],
   "source": [
    "approved_mobile_data = load_data(approved_mobile_path, approved_mobile_list, True)\n",
    "approved_desktop_data = load_data(approved_desktop_path, approved_desktop_list, True)"
   ]
  },
  {
   "cell_type": "code",
   "execution_count": 84,
   "id": "e5dd9ec0-d425-4d5d-8f47-69b1982e7dfc",
   "metadata": {},
   "outputs": [],
   "source": [
    "other_mobile_data = load_data(other_mobile_path, other_mobile_list, False)\n",
    "other_desktop_data = load_data(other_desktop_path, other_desktop_list, False)"
   ]
  },
  {
   "cell_type": "code",
   "execution_count": null,
   "id": "0e49704b-f57e-4b58-b36d-72b36f010cd0",
   "metadata": {},
   "outputs": [],
   "source": []
  },
  {
   "cell_type": "code",
   "execution_count": 85,
   "id": "01d0fc4d-17cf-4fd3-83b9-19f5f4a3f5ef",
   "metadata": {},
   "outputs": [
    {
     "data": {
      "text/plain": [
       "147"
      ]
     },
     "execution_count": 85,
     "metadata": {},
     "output_type": "execute_result"
    }
   ],
   "source": [
    "len(other_mobile_data)"
   ]
  },
  {
   "cell_type": "markdown",
   "id": "441aeb6d-1160-403c-9cbf-4f028897b4f4",
   "metadata": {},
   "source": [
    "## Combining Data, Shuffling both mobile and desktop view collected datasets:"
   ]
  },
  {
   "cell_type": "code",
   "execution_count": 76,
   "id": "ec519d90-1a31-4a0d-aa01-9761443a87e6",
   "metadata": {},
   "outputs": [],
   "source": [
    "combined_mobile_data = approved_mobile_data + other_mobile_data\n",
    "combined_desktop_data = approved_desktop_data + other_desktop_data"
   ]
  },
  {
   "cell_type": "code",
   "execution_count": null,
   "id": "fd07ba99-5593-459e-8fdf-489be449c6a8",
   "metadata": {},
   "outputs": [],
   "source": []
  },
  {
   "cell_type": "code",
   "execution_count": 86,
   "id": "4eb93d91-b676-46de-9b7c-725db1d851ad",
   "metadata": {},
   "outputs": [],
   "source": [
    "np.random.seed(30)\n",
    "np.random.shuffle(combined_mobile_data)\n",
    "np.random.shuffle(combined_desktop_data)"
   ]
  },
  {
   "cell_type": "code",
   "execution_count": 87,
   "id": "4b0b4a16-4806-46e2-982f-031aedbcf195",
   "metadata": {},
   "outputs": [],
   "source": [
    "# Converting to Array:\n",
    "X_mobile = []\n",
    "y_mobile = []\n",
    "X_desktop = []\n",
    "y_desktop  = []\n",
    "for img, label in combined_mobile_data:\n",
    "    X_mobile.append(img)\n",
    "    y_mobile.append(label)\n",
    "for img, label in combined_desktop_data:\n",
    "    X_desktop.append(img)\n",
    "    y_desktop.append(label)\n",
    "\n",
    "X_mobile = np.array(X_mobile)\n",
    "X_desktop = np.array(X_desktop)\n",
    "y_mobile = np.array(y_mobile)\n",
    "y_desktop = np.array(y_desktop)"
   ]
  },
  {
   "cell_type": "code",
   "execution_count": 89,
   "id": "e7e2e574-4aeb-4b56-80cb-20dfbc085ab5",
   "metadata": {},
   "outputs": [
    {
     "data": {
      "text/plain": [
       "(237, 892, 625, 3)"
      ]
     },
     "execution_count": 89,
     "metadata": {},
     "output_type": "execute_result"
    }
   ],
   "source": [
    "X_mobile.shape"
   ]
  },
  {
   "cell_type": "code",
   "execution_count": null,
   "id": "5b583b49-2188-44d1-8812-25565f0ba09a",
   "metadata": {},
   "outputs": [],
   "source": []
  }
 ],
 "metadata": {
  "kernelspec": {
   "display_name": "Python 3 (ipykernel)",
   "language": "python",
   "name": "python3"
  },
  "language_info": {
   "codemirror_mode": {
    "name": "ipython",
    "version": 3
   },
   "file_extension": ".py",
   "mimetype": "text/x-python",
   "name": "python",
   "nbconvert_exporter": "python",
   "pygments_lexer": "ipython3",
   "version": "3.10.11"
  }
 },
 "nbformat": 4,
 "nbformat_minor": 5
}
