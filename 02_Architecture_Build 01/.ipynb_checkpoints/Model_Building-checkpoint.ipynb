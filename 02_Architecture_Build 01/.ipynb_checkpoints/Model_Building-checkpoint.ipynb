{
 "cells": [
  {
   "cell_type": "markdown",
   "id": "098a822a-6297-46b1-9ac9-2c82405068e2",
   "metadata": {},
   "source": [
    "## Importing Modules"
   ]
  },
  {
   "cell_type": "code",
   "execution_count": 1,
   "id": "540f27e8-da2f-474d-95de-b8c88435e581",
   "metadata": {},
   "outputs": [],
   "source": [
    "import numpy as np \n",
    "import os\n",
    "\n",
    "import cv2\n",
    "import matplotlib.pyplot as plt\n",
    "\n",
    "from sklearn.model_selection import train_test_split\n",
    "\n",
    "from keras.models import Sequential\n",
    "from keras.layers import Conv2D, MaxPool2D, Flatten, Dense\n",
    "\n",
    "from keras.preprocessing.image import ImageDataGenerator\n",
    "\n",
    "from keras.callbacks import ModelCheckpoint\n",
    "import tensorflow as tf"
   ]
  },
  {
   "cell_type": "code",
   "execution_count": 2,
   "id": "baf0c19c-9dd2-4a5c-bb10-c8532171e2d9",
   "metadata": {
    "jupyter": {
     "source_hidden": true
    }
   },
   "outputs": [],
   "source": [
    "## Setting up physical Devices:\n",
    "physical_devices = tf.config.list_physical_devices('GPU')\n",
    "try:\n",
    "    tf.config.experimental.set_memory_growth(physical_devices[0], True)\n",
    "except:\n",
    "    pass    "
   ]
  },
  {
   "cell_type": "code",
   "execution_count": 3,
   "id": "601c0178-2754-49fa-a0a5-dc71bb634de7",
   "metadata": {},
   "outputs": [],
   "source": [
    "# Defining Constants \n",
    "\n",
    "IMG_WIDTH = 224\n",
    "IMG_HEIGHT = 224\n",
    "NUM_CHANNELS = 3   # 3 channels - coloured images \n",
    "NUM_CLASSES = 2    # 2 classes - cats & dogs\n",
    "BATCH_SIZE = 32\n",
    "EPOCHS = 50"
   ]
  },
  {
   "cell_type": "code",
   "execution_count": 4,
   "id": "ea44b079-4b6a-475d-ba85-bc03e3a862b8",
   "metadata": {},
   "outputs": [],
   "source": [
    "cv2.imread(os.path.join('dataset', 'approved-ss', 'mobile-view'))"
   ]
  },
  {
   "cell_type": "markdown",
   "id": "ebf75a1d-6a55-44fe-b3b0-425926afe7a1",
   "metadata": {},
   "source": [
    "# Loading Data:"
   ]
  },
  {
   "cell_type": "code",
   "execution_count": 5,
   "id": "4105b858-674d-4c6c-85c7-c62c74b84cae",
   "metadata": {},
   "outputs": [],
   "source": [
    "approved_mobile_path = os.path.join('dataset', 'approved-ss', 'mobile-view')\n",
    "approved_desktop_path = os.path.join('dataset', 'approved-ss', 'desktop-view')"
   ]
  },
  {
   "cell_type": "code",
   "execution_count": 6,
   "id": "f9512405-99bd-4354-960f-ffb323f5fb96",
   "metadata": {},
   "outputs": [],
   "source": [
    "other_mobile_path = os.path.join('dataset', 'other-ss', 'mobile-view')\n",
    "other_desktop_path = os.path.join('dataset', 'other-ss', 'desktop-view')"
   ]
  },
  {
   "cell_type": "code",
   "execution_count": 7,
   "id": "cf8f1531-9d54-4d57-b3a9-1d6183eed650",
   "metadata": {},
   "outputs": [],
   "source": [
    "approved_desktop_list = os.listdir(approved_desktop_path)\n",
    "approved_mobile_list = os.listdir(approved_mobile_path)\n",
    "\n",
    "other_mobile_list = os.listdir(other_mobile_path)\n",
    "other_desktop_list = os.listdir(other_desktop_path)"
   ]
  },
  {
   "cell_type": "code",
   "execution_count": 8,
   "id": "dbcb19a5-0da1-414a-bc78-fafcf6952fc1",
   "metadata": {},
   "outputs": [],
   "source": [
    "def load_data(path_to_dir, path_to_dir_list, approved=True):\n",
    "    label = 1\n",
    "    if not approved:\n",
    "        label = 0\n",
    "    imgs = []\n",
    "    for file in path_to_dir_list:\n",
    "        # path = os.path.join(path_to_dir, file)\n",
    "        img = cv2.imread(os.path.join(path_to_dir, file))\n",
    "        # img = img[:, :-21]\n",
    "        # print(img[:, :-21])\n",
    "        \n",
    "        # img = img[:, :-21]\n",
    "        img = cv2.resize(img, (IMG_WIDTH, IMG_HEIGHT))\n",
    "        # print(len(img))\n",
    "        imgs.append([img, label])\n",
    "    return imgs\n",
    "\n",
    "# load_data(approved_desktop_path, approved_desktop_list, True\n",
    "            # path to dir         list of imgs file names   labels"
   ]
  },
  {
   "cell_type": "code",
   "execution_count": 9,
   "id": "b38a8ac3-6f66-46a6-a107-efa9c3ded65c",
   "metadata": {},
   "outputs": [],
   "source": [
    "# Loading Datasets"
   ]
  },
  {
   "cell_type": "code",
   "execution_count": 10,
   "id": "518f283c-6421-4a3f-8299-6a890e6200f0",
   "metadata": {},
   "outputs": [
    {
     "ename": "error",
     "evalue": "OpenCV(4.8.0) D:\\a\\opencv-python\\opencv-python\\opencv\\modules\\imgproc\\src\\resize.cpp:4062: error: (-215:Assertion failed) !ssize.empty() in function 'cv::resize'\n",
     "output_type": "error",
     "traceback": [
      "\u001b[1;31m---------------------------------------------------------------------------\u001b[0m",
      "\u001b[1;31merror\u001b[0m                                     Traceback (most recent call last)",
      "Cell \u001b[1;32mIn[10], line 1\u001b[0m\n\u001b[1;32m----> 1\u001b[0m approved_mobile_data \u001b[38;5;241m=\u001b[39m \u001b[43mload_data\u001b[49m\u001b[43m(\u001b[49m\u001b[43mapproved_mobile_path\u001b[49m\u001b[43m,\u001b[49m\u001b[43m \u001b[49m\u001b[43mapproved_mobile_list\u001b[49m\u001b[43m,\u001b[49m\u001b[43m \u001b[49m\u001b[38;5;28;43;01mTrue\u001b[39;49;00m\u001b[43m)\u001b[49m\n\u001b[0;32m      2\u001b[0m approved_desktop_data \u001b[38;5;241m=\u001b[39m load_data(approved_desktop_path, approved_desktop_list, \u001b[38;5;28;01mTrue\u001b[39;00m)\n",
      "Cell \u001b[1;32mIn[8], line 13\u001b[0m, in \u001b[0;36mload_data\u001b[1;34m(path_to_dir, path_to_dir_list, approved)\u001b[0m\n\u001b[0;32m      8\u001b[0m img \u001b[38;5;241m=\u001b[39m cv2\u001b[38;5;241m.\u001b[39mimread(os\u001b[38;5;241m.\u001b[39mpath\u001b[38;5;241m.\u001b[39mjoin(path_to_dir, file))\n\u001b[0;32m      9\u001b[0m \u001b[38;5;66;03m# img = img[:, :-21]\u001b[39;00m\n\u001b[0;32m     10\u001b[0m \u001b[38;5;66;03m# print(img[:, :-21])\u001b[39;00m\n\u001b[0;32m     11\u001b[0m \n\u001b[0;32m     12\u001b[0m \u001b[38;5;66;03m# img = img[:, :-21]\u001b[39;00m\n\u001b[1;32m---> 13\u001b[0m img \u001b[38;5;241m=\u001b[39m \u001b[43mcv2\u001b[49m\u001b[38;5;241;43m.\u001b[39;49m\u001b[43mresize\u001b[49m\u001b[43m(\u001b[49m\u001b[43mimg\u001b[49m\u001b[43m,\u001b[49m\u001b[43m \u001b[49m\u001b[43m(\u001b[49m\u001b[43mIMG_WIDTH\u001b[49m\u001b[43m,\u001b[49m\u001b[43m \u001b[49m\u001b[43mIMG_HEIGHT\u001b[49m\u001b[43m)\u001b[49m\u001b[43m)\u001b[49m\n\u001b[0;32m     14\u001b[0m \u001b[38;5;66;03m# print(len(img))\u001b[39;00m\n\u001b[0;32m     15\u001b[0m imgs\u001b[38;5;241m.\u001b[39mappend([img, label])\n",
      "\u001b[1;31merror\u001b[0m: OpenCV(4.8.0) D:\\a\\opencv-python\\opencv-python\\opencv\\modules\\imgproc\\src\\resize.cpp:4062: error: (-215:Assertion failed) !ssize.empty() in function 'cv::resize'\n"
     ]
    }
   ],
   "source": [
    "approved_mobile_data = load_data(approved_mobile_path, approved_mobile_list, True)\n",
    "approved_desktop_data = load_data(approved_desktop_path, approved_desktop_list, True)"
   ]
  },
  {
   "cell_type": "code",
   "execution_count": null,
   "id": "e5dd9ec0-d425-4d5d-8f47-69b1982e7dfc",
   "metadata": {},
   "outputs": [],
   "source": [
    "other_mobile_data = load_data(other_mobile_path, other_mobile_list, False)\n",
    "other_desktop_data = load_data(other_desktop_path, other_desktop_list, False)"
   ]
  },
  {
   "cell_type": "code",
   "execution_count": null,
   "id": "0e49704b-f57e-4b58-b36d-72b36f010cd0",
   "metadata": {},
   "outputs": [],
   "source": []
  },
  {
   "cell_type": "code",
   "execution_count": null,
   "id": "01d0fc4d-17cf-4fd3-83b9-19f5f4a3f5ef",
   "metadata": {},
   "outputs": [],
   "source": [
    "len(other_mobile_data)"
   ]
  },
  {
   "cell_type": "code",
   "execution_count": 11,
   "id": "c279b17b-0a3d-4b9d-861f-6be8456b361f",
   "metadata": {},
   "outputs": [
    {
     "ename": "NameError",
     "evalue": "name 'other_mobile_data' is not defined",
     "output_type": "error",
     "traceback": [
      "\u001b[1;31m---------------------------------------------------------------------------\u001b[0m",
      "\u001b[1;31mNameError\u001b[0m                                 Traceback (most recent call last)",
      "Cell \u001b[1;32mIn[11], line 1\u001b[0m\n\u001b[1;32m----> 1\u001b[0m plt\u001b[38;5;241m.\u001b[39mimshow(\u001b[43mother_mobile_data\u001b[49m[\u001b[38;5;241m0\u001b[39m][\u001b[38;5;241m0\u001b[39m])\n",
      "\u001b[1;31mNameError\u001b[0m: name 'other_mobile_data' is not defined"
     ]
    }
   ],
   "source": [
    "plt.imshow(other_mobile_data[0][0])"
   ]
  },
  {
   "cell_type": "code",
   "execution_count": null,
   "id": "2a708d78-2286-44b0-88bd-13137cff9215",
   "metadata": {},
   "outputs": [],
   "source": []
  },
  {
   "cell_type": "markdown",
   "id": "441aeb6d-1160-403c-9cbf-4f028897b4f4",
   "metadata": {},
   "source": [
    "## Combining Data, Shuffling both mobile and desktop view collected datasets:"
   ]
  },
  {
   "cell_type": "code",
   "execution_count": 12,
   "id": "ec519d90-1a31-4a0d-aa01-9761443a87e6",
   "metadata": {},
   "outputs": [
    {
     "ename": "NameError",
     "evalue": "name 'approved_mobile_data' is not defined",
     "output_type": "error",
     "traceback": [
      "\u001b[1;31m---------------------------------------------------------------------------\u001b[0m",
      "\u001b[1;31mNameError\u001b[0m                                 Traceback (most recent call last)",
      "Cell \u001b[1;32mIn[12], line 1\u001b[0m\n\u001b[1;32m----> 1\u001b[0m combined_mobile_data \u001b[38;5;241m=\u001b[39m \u001b[43mapproved_mobile_data\u001b[49m \u001b[38;5;241m+\u001b[39m other_mobile_data\n\u001b[0;32m      2\u001b[0m combined_desktop_data \u001b[38;5;241m=\u001b[39m approved_desktop_data \u001b[38;5;241m+\u001b[39m other_desktop_data\n",
      "\u001b[1;31mNameError\u001b[0m: name 'approved_mobile_data' is not defined"
     ]
    }
   ],
   "source": [
    "combined_mobile_data = approved_mobile_data + other_mobile_data\n",
    "combined_desktop_data = approved_desktop_data + other_desktop_data"
   ]
  },
  {
   "cell_type": "code",
   "execution_count": null,
   "id": "fd07ba99-5593-459e-8fdf-489be449c6a8",
   "metadata": {},
   "outputs": [],
   "source": []
  },
  {
   "cell_type": "code",
   "execution_count": 96,
   "id": "4eb93d91-b676-46de-9b7c-725db1d851ad",
   "metadata": {},
   "outputs": [],
   "source": [
    "np.random.seed(30)\n",
    "np.random.shuffle(combined_mobile_data)\n",
    "np.random.shuffle(combined_desktop_data)"
   ]
  },
  {
   "cell_type": "code",
   "execution_count": 97,
   "id": "4b0b4a16-4806-46e2-982f-031aedbcf195",
   "metadata": {},
   "outputs": [],
   "source": [
    "# Converting to Array:\n",
    "X_mobile = []\n",
    "y_mobile = []\n",
    "X_desktop = []\n",
    "y_desktop  = []\n",
    "for img, label in combined_mobile_data:\n",
    "    X_mobile.append(img)\n",
    "    y_mobile.append(label)\n",
    "for img, label in combined_desktop_data:\n",
    "    X_desktop.append(img)\n",
    "    y_desktop.append(label)\n",
    "\n",
    "X_mobile = np.array(X_mobile)\n",
    "X_desktop = np.array(X_desktop)\n",
    "y_mobile = np.array(y_mobile)\n",
    "y_desktop = np.array(y_desktop)"
   ]
  },
  {
   "cell_type": "code",
   "execution_count": 101,
   "id": "e7e2e574-4aeb-4b56-80cb-20dfbc085ab5",
   "metadata": {},
   "outputs": [
    {
     "data": {
      "text/plain": [
       "(384, 224, 224, 3)"
      ]
     },
     "execution_count": 101,
     "metadata": {},
     "output_type": "execute_result"
    }
   ],
   "source": [
    "X_mobile.shape"
   ]
  },
  {
   "cell_type": "code",
   "execution_count": 102,
   "id": "0cad2662-994f-4f53-bee8-f6fa2c51726c",
   "metadata": {},
   "outputs": [
    {
     "data": {
      "text/plain": [
       "(378, 224, 224, 3)"
      ]
     },
     "execution_count": 102,
     "metadata": {},
     "output_type": "execute_result"
    }
   ],
   "source": [
    "X_desktop.shape"
   ]
  },
  {
   "cell_type": "markdown",
   "id": "8e863b1e-5a68-4646-9d80-a4df57fde8d4",
   "metadata": {},
   "source": [
    "## Preprocessing Data:"
   ]
  },
  {
   "cell_type": "code",
   "execution_count": 100,
   "id": "79452b12-6560-46f6-a6d7-572c865abc39",
   "metadata": {},
   "outputs": [],
   "source": [
    "def preprocess_data(img_data): \n",
    "    \n",
    "    # Normalizing:\n",
    "    img_data = img_data.astype('float32')\n",
    "    img_data /= 255.0\n",
    "    return img_data"
   ]
  },
  {
   "cell_type": "code",
   "execution_count": 103,
   "id": "14da34c0-5540-46b3-bb97-c0992ab6da01",
   "metadata": {},
   "outputs": [],
   "source": [
    "X_mobile = preprocess_data(X_mobile)\n",
    "X_desktop = preprocess_data(X_desktop)"
   ]
  },
  {
   "cell_type": "code",
   "execution_count": null,
   "id": "616f2043-a3b7-47e4-9662-af46e2eacc29",
   "metadata": {},
   "outputs": [],
   "source": []
  },
  {
   "cell_type": "code",
   "execution_count": null,
   "id": "8c092830-dcd3-495e-ad15-8fb7011ade88",
   "metadata": {},
   "outputs": [],
   "source": []
  },
  {
   "cell_type": "code",
   "execution_count": null,
   "id": "76052f70-6926-4108-8591-7bb73c529061",
   "metadata": {},
   "outputs": [],
   "source": []
  },
  {
   "cell_type": "code",
   "execution_count": 107,
   "id": "76dbea78-db4b-4878-b7df-c4d455f51ea6",
   "metadata": {},
   "outputs": [
    {
     "data": {
      "text/plain": [
       "<matplotlib.image.AxesImage at 0x24054a51b70>"
      ]
     },
     "execution_count": 107,
     "metadata": {},
     "output_type": "execute_result"
    },
    {
     "data": {
      "image/png": "[encoded data removed]",
      "text/plain": [
       "<Figure size 640x480 with 1 Axes>"
      ]
     },
     "metadata": {},
     "output_type": "display_data"
    }
   ],
   "source": [
    "plt.imshow(X_desktop[0])"
   ]
  },
  {
   "cell_type": "code",
   "execution_count": null,
   "id": "01cb939d-fa8c-4d6e-8a75-61f5d18859da",
   "metadata": {},
   "outputs": [],
   "source": []
  },
  {
   "cell_type": "markdown",
   "id": "9cac2c9e-0bd0-4c37-8a8c-47821089aea8",
   "metadata": {},
   "source": [
    "# TRAIN-TEST Data Splitting:"
   ]
  },
  {
   "cell_type": "code",
   "execution_count": null,
   "id": "a386e546-79dd-47f3-9504-30c0c9ea6cf0",
   "metadata": {},
   "outputs": [],
   "source": [
    "X_mobile_train, X_mobile_test, y_mobile_train, y_mobile_test = train_test_split(X_mobile, y_mobile, test_size=0.15)\n",
    "X_desktop_train, X_desktop_test, y_desktop_train, y_desktop_test = train_test_split(X_desktop, y_desktop, test_size=0.15) "
   ]
  },
  {
   "cell_type": "code",
   "execution_count": null,
   "id": "ca4af3fa-ae7e-4891-b5fa-1d708b0aea48",
   "metadata": {},
   "outputs": [],
   "source": []
  },
  {
   "cell_type": "markdown",
   "id": "722a5ac7-43d6-44c3-bbcf-751b8981b99c",
   "metadata": {},
   "source": [
    "# STLYLE CHECK ARCHITECTURE BUILDING: 🔨"
   ]
  },
  {
   "cell_type": "code",
   "execution_count": null,
   "id": "87931817-7f2e-4d86-b59c-cf613cea9c3b",
   "metadata": {},
   "outputs": [],
   "source": [
    "import tensorflow.keras.applications.vgg16 import VGG16\n",
    "from tensorflow.keras.models import Model \n",
    "from tensorflow.keras.layers import GlobalAveragePooling2D, Input, Dense, concatenate\n",
    "from tensorflow.keras.optimizers import Adam\n",
    "from tensorflow.keras.losses import MeanSquaredError\n",
    "from tensorflow.keras.callbacks import ModelCheckpoint"
   ]
  },
  {
   "cell_type": "code",
   "execution_count": null,
   "id": "e9ef1ea3-42cd-47ab-994c-d4b29cd1511a",
   "metadata": {},
   "outputs": [],
   "source": []
  },
  {
   "cell_type": "code",
   "execution_count": null,
   "id": "0f4a7c2a-2f59-4b64-8e9b-785f33238c17",
   "metadata": {},
   "outputs": [],
   "source": [
    "model_mobile = VGG16(weights='imagenet', include_top=False, input_shape=(224, 224, 3))\n",
    "model_desktop = VGG16(weights='imagenet', include_top=False, input_shape=(224, 224, 3))"
   ]
  },
  {
   "cell_type": "code",
   "execution_count": null,
   "id": "48288eaa-783d-41e5-ba02-0ff871d67858",
   "metadata": {},
   "outputs": [],
   "source": [
    "x_mobile = base_model_mobile.output\n",
    "x_mobile = GlobalAveragePooling2D()(x_mobile)\n",
    "\n",
    "x_desktop = base_model_desktop.output\n",
    "x_desktop = GlobalAveragePooling2D()(x_desktop)"
   ]
  },
  {
   "cell_type": "code",
   "execution_count": null,
   "id": "f410ce2d-ab0f-4e05-a57a-f76847468807",
   "metadata": {},
   "outputs": [],
   "source": [
    "# Add a fully-connected layer\n",
    "x_mobile = Dense(1024, activation='relu')(x_mobile)\n",
    "x_desktop = Dense(1024, activation='relu')(x_desktop)"
   ]
  },
  {
   "cell_type": "code",
   "execution_count": null,
   "id": "c0c38840-3313-4d41-ae61-ec9202e41e60",
   "metadata": {},
   "outputs": [],
   "source": [
    "# Add a logistic layer -- we have 1 class\n",
    "predictions_mobile = Dense(1, activation='sigmoid')(x_mobile)\n",
    "predictions_desktop = Dense(1, activation='sigmoid')(x_desktop)"
   ]
  },
  {
   "cell_type": "code",
   "execution_count": null,
   "id": "62db209c-f1e1-4454-a6dd-9022c36541ab",
   "metadata": {},
   "outputs": [],
   "source": []
  },
  {
   "cell_type": "code",
   "execution_count": null,
   "id": "c683c12e-875c-497e-978b-627623ee7fec",
   "metadata": {},
   "outputs": [],
   "source": []
  },
  {
   "cell_type": "code",
   "execution_count": null,
   "id": "31cfef5c-81b9-47f5-9db4-103a01fadcb3",
   "metadata": {},
   "outputs": [],
   "source": []
  },
  {
   "cell_type": "code",
   "execution_count": null,
   "id": "bee6b22e-80d0-49d0-a261-c6d69ad03d71",
   "metadata": {},
   "outputs": [],
   "source": []
  },
  {
   "cell_type": "markdown",
   "id": "6382650f-ba15-45bf-b6e8-d1d6d326f76f",
   "metadata": {},
   "source": [
    "# Check Point Addition:\n",
    "\n",
    "- **Adding Best weights**"
   ]
  },
  {
   "cell_type": "code",
   "execution_count": null,
   "id": "3d1b99c3-502a-4b9d-b708-925b5ec9bb44",
   "metadata": {},
   "outputs": [],
   "source": []
  }
 ],
 "metadata": {
  "kernelspec": {
   "display_name": "Python 3 (ipykernel)",
   "language": "python",
   "name": "python3"
  },
  "language_info": {
   "codemirror_mode": {
    "name": "ipython",
    "version": 3
   },
   "file_extension": ".py",
   "mimetype": "text/x-python",
   "name": "python",
   "nbconvert_exporter": "python",
   "pygments_lexer": "ipython3",
   "version": "3.10.11"
  }
 },
 "nbformat": 4,
 "nbformat_minor": 5
}
