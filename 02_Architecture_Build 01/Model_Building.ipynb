{
 "cells": [
  {
   "cell_type": "markdown",
   "id": "098a822a-6297-46b1-9ac9-2c82405068e2",
   "metadata": {},
   "source": [
    "## Importing Modules"
   ]
  },
  {
   "cell_type": "code",
   "execution_count": 1,
   "id": "540f27e8-da2f-474d-95de-b8c88435e581",
   "metadata": {},
   "outputs": [],
   "source": [
    "import numpy as np \n",
    "import os\n",
    "\n",
    "import cv2\n",
    "import matplotlib.pyplot as plt\n",
    "\n",
    "from sklearn.model_selection import train_test_split\n",
    "\n",
    "from keras.models import Sequential\n",
    "from keras.layers import Conv2D, MaxPool2D, Flatten, Dense\n",
    "\n",
    "from keras.preprocessing.image import ImageDataGenerator\n",
    "\n",
    "from keras.callbacks import ModelCheckpoint\n",
    "import tensorflow as tf"
   ]
  },
  {
   "cell_type": "code",
   "execution_count": 2,
   "id": "baf0c19c-9dd2-4a5c-bb10-c8532171e2d9",
   "metadata": {},
   "outputs": [],
   "source": [
    "## Setting up physical Devices:\n",
    "physical_devices = tf.config.list_physical_devices('GPU')\n",
    "try:\n",
    "    tf.config.experimental.set_memory_growth(physical_devices[0], True)\n",
    "except:\n",
    "    pass    "
   ]
  },
  {
   "cell_type": "code",
   "execution_count": 3,
   "id": "601c0178-2754-49fa-a0a5-dc71bb634de7",
   "metadata": {},
   "outputs": [],
   "source": [
    "# Defining Constants \n",
    "\n",
    "IMG_WIDTH = 224\n",
    "IMG_HEIGHT = 224\n",
    "NUM_CHANNELS = 3   # 3 channels - coloured images \n",
    "NUM_CLASSES = 2    # 2 classes - cats & dogs\n",
    "BATCH_SIZE = 32\n",
    "EPOCHS = 50"
   ]
  },
  {
   "cell_type": "markdown",
   "id": "ebf75a1d-6a55-44fe-b3b0-425926afe7a1",
   "metadata": {},
   "source": [
    "# Loading Data:"
   ]
  },
  {
   "cell_type": "code",
   "execution_count": 10,
   "id": "4105b858-674d-4c6c-85c7-c62c74b84cae",
   "metadata": {},
   "outputs": [],
   "source": [
    "approved_mobile_path = os.path.join('dataset', 'approved-ss', 'mobile-view')\n",
    "approved_desktop_path = os.path.join('dataset', 'approved-ss', 'desktop-view')"
   ]
  },
  {
   "cell_type": "code",
   "execution_count": 11,
   "id": "f9512405-99bd-4354-960f-ffb323f5fb96",
   "metadata": {},
   "outputs": [],
   "source": [
    "other_mobile_path = os.path.join('dataset', 'other-ss', 'mobile-view')\n",
    "approved_desktop_path = os.path.join('dataset', 'other-ss', 'desktop-view')"
   ]
  },
  {
   "cell_type": "code",
   "execution_count": null,
   "id": "dbcb19a5-0da1-414a-bc78-fafcf6952fc1",
   "metadata": {},
   "outputs": [],
   "source": []
  }
 ],
 "metadata": {
  "kernelspec": {
   "display_name": "Python 3 (ipykernel)",
   "language": "python",
   "name": "python3"
  },
  "language_info": {
   "codemirror_mode": {
    "name": "ipython",
    "version": 3
   },
   "file_extension": ".py",
   "mimetype": "text/x-python",
   "name": "python",
   "nbconvert_exporter": "python",
   "pygments_lexer": "ipython3",
   "version": "3.10.11"
  }
 },
 "nbformat": 4,
 "nbformat_minor": 5
}
